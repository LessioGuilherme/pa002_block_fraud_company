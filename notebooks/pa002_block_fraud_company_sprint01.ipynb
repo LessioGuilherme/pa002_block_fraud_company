{
 "cells": [
  {
   "cell_type": "markdown",
   "id": "12630888",
   "metadata": {},
   "source": [
    "# 0.0 Imports"
   ]
  },
  {
   "cell_type": "code",
   "execution_count": 4,
   "id": "fb100244",
   "metadata": {
    "ExecuteTime": {
     "end_time": "2021-04-06T21:57:30.586318Z",
     "start_time": "2021-04-06T21:57:30.572307Z"
    }
   },
   "outputs": [],
   "source": [
    "import pandas             as pd\n",
    "import numpy              as np\n",
    "#import xgboost            as xgb\n",
    "import scikitplot         as skplt\n",
    "\n",
    "import matplotlib.pyplot  as plt\n",
    "import seaborn            as sns\n",
    "\n",
    "from IPython.display         import Image\n",
    "from scipy                   import stats            as ss\n",
    "from sklearn                 import preprocessing    as pp\n",
    "from sklearn                 import model_selection  as ms\n",
    "from sklearn                 import ensemble         as en\n",
    "from sklearn                 import metrics          as m\n",
    "from scikitplot              import metrics          as mt\n",
    "from sklearn.model_selection import StratifiedShuffleSplit\n",
    "\n",
    "from sklearn.ensemble     import RandomForestClassifier\n",
    "#from boruta               import BorutaPy\n",
    "from sklearn.linear_model import LogisticRegression\n",
    "from sklearn.neighbors    import KNeighborsClassifier\n",
    "from sklearn              import svm\n",
    "#from lightgbm             import LGBMClassifier\n",
    "from sklearn.naive_bayes  import GaussianNB\n",
    "#from skopt                import forest_minimize\n",
    "#from skopt.plots          import plot_convergence\n",
    "from flask                import Flask, request, Response\n",
    "\n",
    "import warnings\n",
    "import pickle\n",
    "warnings.filterwarnings(\"ignore\")\n",
    "\n",
    "%matplotlib inline"
   ]
  },
  {
   "cell_type": "markdown",
   "id": "f29c8ed0",
   "metadata": {},
   "source": [
    "## 0.1 Helper Functions"
   ]
  },
  {
   "cell_type": "markdown",
   "id": "253e976d",
   "metadata": {},
   "source": [
    "## 0.2 Loading Data"
   ]
  },
  {
   "cell_type": "code",
   "execution_count": 7,
   "id": "71e6089a",
   "metadata": {
    "ExecuteTime": {
     "end_time": "2021-04-06T21:59:14.505671Z",
     "start_time": "2021-04-06T21:59:00.873951Z"
    }
   },
   "outputs": [],
   "source": [
    "#data_kaggle = pd.read_csv('C:/Users/Guilherme/Repos/Dataset pa002/dataset_kaggle_block_fraud_company.csv')"
   ]
  },
  {
   "cell_type": "code",
   "execution_count": 11,
   "id": "796372af",
   "metadata": {
    "ExecuteTime": {
     "end_time": "2021-04-06T22:02:16.340323Z",
     "start_time": "2021-04-06T22:02:16.327315Z"
    }
   },
   "outputs": [
    {
     "name": "stdout",
     "output_type": "stream",
     "text": [
      "<class 'pandas.core.frame.DataFrame'>\n",
      "RangeIndex: 6362620 entries, 0 to 6362619\n",
      "Data columns (total 11 columns):\n",
      " #   Column          Dtype  \n",
      "---  ------          -----  \n",
      " 0   step            int64  \n",
      " 1   type            object \n",
      " 2   amount          float64\n",
      " 3   nameOrig        object \n",
      " 4   oldbalanceOrg   float64\n",
      " 5   newbalanceOrig  float64\n",
      " 6   nameDest        object \n",
      " 7   oldbalanceDest  float64\n",
      " 8   newbalanceDest  float64\n",
      " 9   isFraud         int64  \n",
      " 10  isFlaggedFraud  int64  \n",
      "dtypes: float64(5), int64(3), object(3)\n",
      "memory usage: 534.0+ MB\n"
     ]
    }
   ],
   "source": [
    "data_kaggle.info()"
   ]
  },
  {
   "cell_type": "markdown",
   "id": "155bd69a",
   "metadata": {},
   "source": [
    "- Memory usage is too high (500MB+), there are many data to manipulate in a local machine. A split strategy will be applied to split data for less memory use"
   ]
  },
  {
   "cell_type": "markdown",
   "id": "6635c30c",
   "metadata": {},
   "source": [
    "### 0.2.1 Data split "
   ]
  },
  {
   "cell_type": "code",
   "execution_count": 9,
   "id": "e8595213",
   "metadata": {
    "ExecuteTime": {
     "end_time": "2021-04-06T22:00:09.899334Z",
     "start_time": "2021-04-06T22:00:01.603254Z"
    }
   },
   "outputs": [],
   "source": [
    "split = StratifiedShuffleSplit(n_splits=1, test_size=0.2, random_state=42)\n",
    "for train_1_index, train_2_index in split.split(data_kaggle, data_kaggle['isFraud']):\n",
    "    strat_train_1_set = data_kaggle.loc[train_1_index]\n",
    "    strat_train_2_set = data_kaggle.loc[train_2_index]"
   ]
  },
  {
   "cell_type": "code",
   "execution_count": 10,
   "id": "e49fd965",
   "metadata": {
    "ExecuteTime": {
     "end_time": "2021-04-06T22:00:51.132750Z",
     "start_time": "2021-04-06T22:00:40.232487Z"
    }
   },
   "outputs": [],
   "source": [
    "strat_train_2_set.to_csv('C:/Users/Guilherme/Repos/Dataset pa002/dataset_sampled.csv', index=False)\n",
    "strat_train_2_set.info()"
   ]
  },
  {
   "cell_type": "markdown",
   "id": "fccf9365",
   "metadata": {},
   "source": [
    "- Now memory is 116 MB of usage, more acceptable to use in a local machine to manipulate data and process it."
   ]
  },
  {
   "cell_type": "markdown",
   "id": "c6260ef7",
   "metadata": {},
   "source": [
    "### 0.2.1 Loading splited data"
   ]
  },
  {
   "cell_type": "code",
   "execution_count": 14,
   "id": "64ebec55",
   "metadata": {
    "ExecuteTime": {
     "end_time": "2021-04-06T22:12:09.685104Z",
     "start_time": "2021-04-06T22:12:04.853190Z"
    }
   },
   "outputs": [],
   "source": [
    "data_splited = pd.read_csv('C:/Users/Guilherme/Repos/Dataset pa002/dataset_sampled.csv')"
   ]
  },
  {
   "cell_type": "markdown",
   "id": "300996a3",
   "metadata": {},
   "source": [
    "#### 0.2.1.1 Slipt data in dataset (train and validation) and test"
   ]
  },
  {
   "cell_type": "code",
   "execution_count": 15,
   "id": "342e4b9f",
   "metadata": {
    "ExecuteTime": {
     "end_time": "2021-04-06T22:13:30.693241Z",
     "start_time": "2021-04-06T22:13:29.261017Z"
    }
   },
   "outputs": [],
   "source": [
    "split = StratifiedShuffleSplit(n_splits=1, test_size=0.2, random_state=42)\n",
    "for test_1_index, test_2_index in split.split(data_splited, data_splited['isFraud']):\n",
    "    dataset = data_splited.loc[test_1_index]\n",
    "    dataset_test = data_splited.loc[test_2_index]"
   ]
  },
  {
   "cell_type": "code",
   "execution_count": 20,
   "id": "42f77abd",
   "metadata": {
    "ExecuteTime": {
     "end_time": "2021-04-06T22:14:43.402695Z",
     "start_time": "2021-04-06T22:14:43.381681Z"
    }
   },
   "outputs": [
    {
     "data": {
      "text/plain": [
       "0    1016705\n",
       "1       1314\n",
       "Name: isFraud, dtype: int64"
      ]
     },
     "execution_count": 20,
     "metadata": {},
     "output_type": "execute_result"
    }
   ],
   "source": [
    "dataset['isFraud'].value_counts()#normalize=True)"
   ]
  },
  {
   "cell_type": "code",
   "execution_count": 21,
   "id": "bb9fe426",
   "metadata": {
    "ExecuteTime": {
     "end_time": "2021-04-06T22:14:44.493443Z",
     "start_time": "2021-04-06T22:14:44.481435Z"
    }
   },
   "outputs": [
    {
     "data": {
      "text/plain": [
       "0    254176\n",
       "1       329\n",
       "Name: isFraud, dtype: int64"
      ]
     },
     "execution_count": 21,
     "metadata": {},
     "output_type": "execute_result"
    }
   ],
   "source": [
    "dataset_test['isFraud'].value_counts()#normalize=True)"
   ]
  },
  {
   "cell_type": "code",
   "execution_count": null,
   "id": "bca11e29",
   "metadata": {},
   "outputs": [],
   "source": [
    "a"
   ]
  }
 ],
 "metadata": {
  "kernelspec": {
   "display_name": "Python 3",
   "language": "python",
   "name": "python3"
  },
  "language_info": {
   "codemirror_mode": {
    "name": "ipython",
    "version": 3
   },
   "file_extension": ".py",
   "mimetype": "text/x-python",
   "name": "python",
   "nbconvert_exporter": "python",
   "pygments_lexer": "ipython3",
   "version": "3.8.8"
  },
  "varInspector": {
   "cols": {
    "lenName": 16,
    "lenType": 16,
    "lenVar": 40
   },
   "kernels_config": {
    "python": {
     "delete_cmd_postfix": "",
     "delete_cmd_prefix": "del ",
     "library": "var_list.py",
     "varRefreshCmd": "print(var_dic_list())"
    },
    "r": {
     "delete_cmd_postfix": ") ",
     "delete_cmd_prefix": "rm(",
     "library": "var_list.r",
     "varRefreshCmd": "cat(var_dic_list()) "
    }
   },
   "types_to_exclude": [
    "module",
    "function",
    "builtin_function_or_method",
    "instance",
    "_Feature"
   ],
   "window_display": false
  }
 },
 "nbformat": 4,
 "nbformat_minor": 5
}
