{
 "cells": [
  {
   "cell_type": "markdown",
   "id": "dfc65e5c",
   "metadata": {},
   "source": [
    "# 0.0 Imports"
   ]
  },
  {
   "cell_type": "code",
   "execution_count": 3,
   "id": "cfd6f2fe",
   "metadata": {
    "ExecuteTime": {
     "end_time": "2021-04-07T12:44:31.788720Z",
     "start_time": "2021-04-07T12:42:45.851247Z"
    }
   },
   "outputs": [],
   "source": [
    "import pandas             as pd\n",
    "import numpy              as np\n",
    "#import xgboost            as xgb\n",
    "import scikitplot         as skplt\n",
    "\n",
    "import matplotlib.pyplot  as plt\n",
    "import seaborn            as sns\n",
    "\n",
    "from IPython.display         import Image\n",
    "from scipy                   import stats            as ss\n",
    "from sklearn                 import preprocessing    as pp\n",
    "from sklearn                 import model_selection  as ms\n",
    "from sklearn                 import ensemble         as en\n",
    "from sklearn                 import metrics          as m\n",
    "from scikitplot              import metrics          as mt\n",
    "from sklearn.model_selection import StratifiedShuffleSplit\n",
    "\n",
    "from sklearn.ensemble     import RandomForestClassifier\n",
    "#from boruta               import BorutaPy\n",
    "from sklearn.linear_model import LogisticRegression\n",
    "from sklearn.neighbors    import KNeighborsClassifier\n",
    "from sklearn              import svm\n",
    "#from lightgbm             import LGBMClassifier\n",
    "from sklearn.naive_bayes  import GaussianNB\n",
    "#from skopt                import forest_minimize\n",
    "#from skopt.plots          import plot_convergence\n",
    "from flask                import Flask, request, Response\n",
    "\n",
    "import warnings\n",
    "import pickle\n",
    "import inflection\n",
    "warnings.filterwarnings(\"ignore\")\n",
    "\n",
    "%matplotlib inline"
   ]
  },
  {
   "cell_type": "markdown",
   "id": "1c49f4c6",
   "metadata": {},
   "source": [
    "## 0.1 Helper Functions"
   ]
  },
  {
   "cell_type": "markdown",
   "id": "4811c2ea",
   "metadata": {},
   "source": [
    "## 0.2 Loading Data"
   ]
  },
  {
   "cell_type": "code",
   "execution_count": 4,
   "id": "e0ca3e8a",
   "metadata": {
    "ExecuteTime": {
     "end_time": "2021-04-07T12:45:01.871270Z",
     "start_time": "2021-04-07T12:44:41.438151Z"
    }
   },
   "outputs": [],
   "source": [
    "data_kaggle = pd.read_csv('C:/Users/Guilherme/Repos/Dataset pa002/dataset_kaggle_block_fraud_company.csv')"
   ]
  },
  {
   "cell_type": "code",
   "execution_count": 5,
   "id": "2c16c353",
   "metadata": {
    "ExecuteTime": {
     "end_time": "2021-04-07T12:45:05.355151Z",
     "start_time": "2021-04-07T12:45:04.916284Z"
    }
   },
   "outputs": [
    {
     "name": "stdout",
     "output_type": "stream",
     "text": [
      "<class 'pandas.core.frame.DataFrame'>\n",
      "RangeIndex: 6362620 entries, 0 to 6362619\n",
      "Data columns (total 11 columns):\n",
      " #   Column          Dtype  \n",
      "---  ------          -----  \n",
      " 0   step            int64  \n",
      " 1   type            object \n",
      " 2   amount          float64\n",
      " 3   nameOrig        object \n",
      " 4   oldbalanceOrg   float64\n",
      " 5   newbalanceOrig  float64\n",
      " 6   nameDest        object \n",
      " 7   oldbalanceDest  float64\n",
      " 8   newbalanceDest  float64\n",
      " 9   isFraud         int64  \n",
      " 10  isFlaggedFraud  int64  \n",
      "dtypes: float64(5), int64(3), object(3)\n",
      "memory usage: 534.0+ MB\n"
     ]
    }
   ],
   "source": [
    "data_kaggle.info()"
   ]
  },
  {
   "cell_type": "code",
   "execution_count": 11,
   "id": "2245153a",
   "metadata": {
    "ExecuteTime": {
     "end_time": "2021-04-07T12:52:03.703362Z",
     "start_time": "2021-04-07T12:52:03.612579Z"
    }
   },
   "outputs": [
    {
     "data": {
      "text/plain": [
       "0    0.998709\n",
       "1    0.001291\n",
       "Name: isFraud, dtype: float64"
      ]
     },
     "execution_count": 11,
     "metadata": {},
     "output_type": "execute_result"
    }
   ],
   "source": [
    "data_kaggle['isFraud'].value_counts(normalize=True)"
   ]
  },
  {
   "cell_type": "markdown",
   "id": "e0cc5022",
   "metadata": {
    "hide_input": false
   },
   "source": [
    "- Memory usage is too high (500MB+), there are many data to manipulate in a local machine. A split strategy will be applied to split data for less memory use"
   ]
  },
  {
   "cell_type": "markdown",
   "id": "1e5f8e4d",
   "metadata": {},
   "source": [
    "### 0.2.1 Data split "
   ]
  },
  {
   "cell_type": "code",
   "execution_count": 12,
   "id": "dc352cfe",
   "metadata": {
    "ExecuteTime": {
     "end_time": "2021-04-07T12:52:12.784550Z",
     "start_time": "2021-04-07T12:52:05.131407Z"
    }
   },
   "outputs": [],
   "source": [
    "split = StratifiedShuffleSplit(n_splits=1, test_size=0.2, random_state=42)\n",
    "for train_1_index, train_2_index in split.split(data_kaggle, data_kaggle['isFraud']):\n",
    "    strat_train_1_set = data_kaggle.loc[train_1_index]\n",
    "    strat_train_2_set = data_kaggle.loc[train_2_index]"
   ]
  },
  {
   "cell_type": "code",
   "execution_count": 15,
   "id": "f96fa567",
   "metadata": {
    "ExecuteTime": {
     "end_time": "2021-04-07T12:52:32.300526Z",
     "start_time": "2021-04-07T12:52:20.658438Z"
    }
   },
   "outputs": [
    {
     "name": "stdout",
     "output_type": "stream",
     "text": [
      "<class 'pandas.core.frame.DataFrame'>\n",
      "Int64Index: 1272524 entries, 4051353 to 2496743\n",
      "Data columns (total 11 columns):\n",
      " #   Column          Non-Null Count    Dtype  \n",
      "---  ------          --------------    -----  \n",
      " 0   step            1272524 non-null  int64  \n",
      " 1   type            1272524 non-null  object \n",
      " 2   amount          1272524 non-null  float64\n",
      " 3   nameOrig        1272524 non-null  object \n",
      " 4   oldbalanceOrg   1272524 non-null  float64\n",
      " 5   newbalanceOrig  1272524 non-null  float64\n",
      " 6   nameDest        1272524 non-null  object \n",
      " 7   oldbalanceDest  1272524 non-null  float64\n",
      " 8   newbalanceDest  1272524 non-null  float64\n",
      " 9   isFraud         1272524 non-null  int64  \n",
      " 10  isFlaggedFraud  1272524 non-null  int64  \n",
      "dtypes: float64(5), int64(3), object(3)\n",
      "memory usage: 116.5+ MB\n"
     ]
    }
   ],
   "source": [
    "strat_train_2_set.to_csv('C:/Users/Guilherme/Repos/Dataset pa002/dataset_sampled.csv', index=False)\n",
    "strat_train_2_set.info()"
   ]
  },
  {
   "cell_type": "markdown",
   "id": "1a4c1cb7",
   "metadata": {},
   "source": [
    "- Now memory is 116 MB of usage, more acceptable to use in a local machine to manipulate data and process it."
   ]
  },
  {
   "cell_type": "markdown",
   "id": "9bfd76ef",
   "metadata": {},
   "source": [
    "### 0.2.1 Loading splited data"
   ]
  },
  {
   "cell_type": "code",
   "execution_count": 35,
   "id": "01edd657",
   "metadata": {
    "ExecuteTime": {
     "end_time": "2021-04-07T12:57:49.351385Z",
     "start_time": "2021-04-07T12:57:48.815131Z"
    }
   },
   "outputs": [],
   "source": [
    "data_splited = pd.read_csv('C:/Users/Guilherme/Repos/Dataset pa002/dataset_sampled.csv')"
   ]
  },
  {
   "cell_type": "markdown",
   "id": "fba3d455",
   "metadata": {},
   "source": [
    "#### 0.2.1.1 Slipt data in dataset (train and validation) and test"
   ]
  },
  {
   "cell_type": "code",
   "execution_count": 36,
   "id": "622313dc",
   "metadata": {
    "ExecuteTime": {
     "end_time": "2021-04-07T12:57:58.865634Z",
     "start_time": "2021-04-07T12:57:51.488476Z"
    }
   },
   "outputs": [],
   "source": [
    "split = StratifiedShuffleSplit(n_splits=1, test_size=0.2, random_state=42)\n",
    "for test_1_index, test_2_index in split.split(data_splited, data_splited['isFraud']):\n",
    "    dataset = data_splited.loc[test_1_index]\n",
    "    dataset_test = data_splited.loc[test_2_index]"
   ]
  },
  {
   "cell_type": "code",
   "execution_count": 37,
   "id": "40947184",
   "metadata": {
    "ExecuteTime": {
     "end_time": "2021-04-07T12:58:02.987321Z",
     "start_time": "2021-04-07T12:58:02.907267Z"
    }
   },
   "outputs": [
    {
     "data": {
      "text/plain": [
       "0    0.998709\n",
       "1    0.001291\n",
       "Name: isFraud, dtype: float64"
      ]
     },
     "execution_count": 37,
     "metadata": {},
     "output_type": "execute_result"
    }
   ],
   "source": [
    "dataset['isFraud'].value_counts(normalize=True)"
   ]
  },
  {
   "cell_type": "code",
   "execution_count": 38,
   "id": "29397e38",
   "metadata": {
    "ExecuteTime": {
     "end_time": "2021-04-07T12:58:04.101706Z",
     "start_time": "2021-04-07T12:58:04.075690Z"
    }
   },
   "outputs": [
    {
     "data": {
      "text/plain": [
       "0    0.998709\n",
       "1    0.001291\n",
       "Name: isFraud, dtype: float64"
      ]
     },
     "execution_count": 38,
     "metadata": {},
     "output_type": "execute_result"
    }
   ],
   "source": [
    "dataset_test['isFraud'].value_counts(normalize=True)"
   ]
  },
  {
   "cell_type": "markdown",
   "id": "5fbac316",
   "metadata": {},
   "source": [
    "# 1.0 Data Description"
   ]
  },
  {
   "cell_type": "code",
   "execution_count": 39,
   "id": "a24e6835",
   "metadata": {
    "ExecuteTime": {
     "end_time": "2021-04-07T12:58:06.200149Z",
     "start_time": "2021-04-07T12:58:05.666865Z"
    }
   },
   "outputs": [],
   "source": [
    "df1 = dataset.copy()"
   ]
  },
  {
   "cell_type": "markdown",
   "id": "7ca23a21",
   "metadata": {},
   "source": [
    "## 1.1 Rename Columns"
   ]
  },
  {
   "cell_type": "code",
   "execution_count": 40,
   "id": "e65481ee",
   "metadata": {
    "ExecuteTime": {
     "end_time": "2021-04-07T12:58:07.862594Z",
     "start_time": "2021-04-07T12:58:07.856589Z"
    }
   },
   "outputs": [
    {
     "data": {
      "text/plain": [
       "Index(['step', 'type', 'amount', 'nameOrig', 'oldbalanceOrg', 'newbalanceOrig',\n",
       "       'nameDest', 'oldbalanceDest', 'newbalanceDest', 'isFraud',\n",
       "       'isFlaggedFraud'],\n",
       "      dtype='object')"
      ]
     },
     "execution_count": 40,
     "metadata": {},
     "output_type": "execute_result"
    }
   ],
   "source": [
    "cols_old = df1.columns\n",
    "cols_old"
   ]
  },
  {
   "cell_type": "code",
   "execution_count": 41,
   "id": "aa94cb72",
   "metadata": {
    "ExecuteTime": {
     "end_time": "2021-04-07T12:58:08.542442Z",
     "start_time": "2021-04-07T12:58:08.537438Z"
    }
   },
   "outputs": [],
   "source": [
    "snakecase = lambda x: inflection.underscore(x)\n",
    "cols_new = list(map(snakecase, cols_old))\n",
    "\n",
    "# rename\n",
    "df1.columns = cols_new"
   ]
  },
  {
   "cell_type": "code",
   "execution_count": 42,
   "id": "3820a41e",
   "metadata": {
    "ExecuteTime": {
     "end_time": "2021-04-07T12:58:09.015055Z",
     "start_time": "2021-04-07T12:58:09.009052Z"
    }
   },
   "outputs": [
    {
     "data": {
      "text/plain": [
       "Index(['step', 'type', 'amount', 'name_orig', 'oldbalance_org',\n",
       "       'newbalance_orig', 'name_dest', 'oldbalance_dest', 'newbalance_dest',\n",
       "       'is_fraud', 'is_flagged_fraud'],\n",
       "      dtype='object')"
      ]
     },
     "execution_count": 42,
     "metadata": {},
     "output_type": "execute_result"
    }
   ],
   "source": [
    "df1.columns"
   ]
  },
  {
   "cell_type": "markdown",
   "id": "65833668",
   "metadata": {},
   "source": [
    "# 1.2 Data Dimension"
   ]
  },
  {
   "cell_type": "code",
   "execution_count": 43,
   "id": "dd402b95",
   "metadata": {
    "ExecuteTime": {
     "end_time": "2021-04-07T12:58:10.609693Z",
     "start_time": "2021-04-07T12:58:10.604691Z"
    }
   },
   "outputs": [
    {
     "name": "stdout",
     "output_type": "stream",
     "text": [
      "Number of Rows: 5090096\n",
      "Number of Columns: 11\n"
     ]
    }
   ],
   "source": [
    "print('Number of Rows: {}'.format(df1.shape[0]))\n",
    "print('Number of Columns: {}'.format(df1.shape[1]))"
   ]
  },
  {
   "cell_type": "markdown",
   "id": "9e2a331d",
   "metadata": {},
   "source": [
    "## 1.3 Data Types"
   ]
  },
  {
   "cell_type": "code",
   "execution_count": 44,
   "id": "5fce9166",
   "metadata": {
    "ExecuteTime": {
     "end_time": "2021-04-07T12:58:13.006348Z",
     "start_time": "2021-04-07T12:58:12.998340Z"
    }
   },
   "outputs": [
    {
     "data": {
      "text/plain": [
       "step                  int64\n",
       "type                 object\n",
       "amount              float64\n",
       "name_orig            object\n",
       "oldbalance_org      float64\n",
       "newbalance_orig     float64\n",
       "name_dest            object\n",
       "oldbalance_dest     float64\n",
       "newbalance_dest     float64\n",
       "is_fraud              int64\n",
       "is_flagged_fraud      int64\n",
       "dtype: object"
      ]
     },
     "execution_count": 44,
     "metadata": {},
     "output_type": "execute_result"
    }
   ],
   "source": [
    "df1.dtypes"
   ]
  },
  {
   "cell_type": "markdown",
   "id": "895712b9",
   "metadata": {},
   "source": [
    "- It is not necessary to change data types."
   ]
  },
  {
   "cell_type": "markdown",
   "id": "bbaf5184",
   "metadata": {},
   "source": [
    "## 1.4 Check NAN"
   ]
  },
  {
   "cell_type": "code",
   "execution_count": 45,
   "id": "309f024d",
   "metadata": {
    "ExecuteTime": {
     "end_time": "2021-04-07T12:58:16.270641Z",
     "start_time": "2021-04-07T12:58:14.604803Z"
    }
   },
   "outputs": [
    {
     "data": {
      "text/plain": [
       "step                0\n",
       "type                0\n",
       "amount              0\n",
       "name_orig           0\n",
       "oldbalance_org      0\n",
       "newbalance_orig     0\n",
       "name_dest           0\n",
       "oldbalance_dest     0\n",
       "newbalance_dest     0\n",
       "is_fraud            0\n",
       "is_flagged_fraud    0\n",
       "dtype: int64"
      ]
     },
     "execution_count": 45,
     "metadata": {},
     "output_type": "execute_result"
    }
   ],
   "source": [
    "df1.isna().sum()"
   ]
  },
  {
   "cell_type": "markdown",
   "id": "634064fc",
   "metadata": {},
   "source": [
    "- There is no NAN in original datas"
   ]
  },
  {
   "cell_type": "markdown",
   "id": "7975437f",
   "metadata": {},
   "source": [
    "## 1.5 Fillout NA"
   ]
  },
  {
   "cell_type": "markdown",
   "id": "dc17e025",
   "metadata": {},
   "source": [
    "- Not necessary, as seen in 1.4 section"
   ]
  },
  {
   "cell_type": "markdown",
   "id": "5919c9e7",
   "metadata": {},
   "source": [
    "## 1.6 Columns Description"
   ]
  },
  {
   "cell_type": "code",
   "execution_count": 46,
   "id": "21cc3dcd",
   "metadata": {
    "ExecuteTime": {
     "end_time": "2021-04-07T12:58:17.905390Z",
     "start_time": "2021-04-07T12:58:17.898388Z"
    }
   },
   "outputs": [
    {
     "data": {
      "text/plain": [
       "Index(['step', 'type', 'amount', 'name_orig', 'oldbalance_org',\n",
       "       'newbalance_orig', 'name_dest', 'oldbalance_dest', 'newbalance_dest',\n",
       "       'is_fraud', 'is_flagged_fraud'],\n",
       "      dtype='object')"
      ]
     },
     "execution_count": 46,
     "metadata": {},
     "output_type": "execute_result"
    }
   ],
   "source": [
    "cols = df1.columns\n",
    "cols"
   ]
  },
  {
   "cell_type": "markdown",
   "id": "ef76eefa",
   "metadata": {},
   "source": [
    "- **step**: maps a unit of time in the real world. In this case 1 step is 1 hour of time. Total steps 744 (30 days simulation).\n",
    "\n",
    "\n",
    "- **type**: CASH-IN, CASH-OUT, DEBIT, PAYMENT and TRANSFER.\n",
    "\n",
    "\n",
    "- **amount**: amount of the transaction in local currency.\n",
    "\n",
    "\n",
    "- **nameOrig**: customer who started the transaction\n",
    "\n",
    "\n",
    "- **oldbalanceOrg**: initial balance before the transaction\n",
    "\n",
    "\n",
    "- **newbalanceOrig**: new balance after the transaction\n",
    "\n",
    "\n",
    "- **nameDest**: customer who is the recipient of the transaction\n",
    "\n",
    "\n",
    "- **oldbalanceDest**: initial balance recipient before the transaction. Note that there is not information for customers that start with M (Merchants).\n",
    "\n",
    "\n",
    "- **newbalanceDest**: new balance recipient after the transaction. Note that there is not information for customers that start with M (Merchants).\n",
    "\n",
    "\n",
    "- **isFraud**: This is the transactions made by the fraudulent agents inside the simulation. In this specific dataset the fraudulent behavior of the agents aims to profit by taking control or customers accounts and try to empty the funds by transferring to another account and then cashing out of the system.\n",
    "\n",
    "\n",
    "- **isFlaggedFraud**: The business model aims to control massive transfers from one account to another and flags illegal attempts. An illegal attempt in this dataset is an attempt to transfer more than 200.000 in a single transaction."
   ]
  },
  {
   "cell_type": "markdown",
   "id": "38bf98ce",
   "metadata": {},
   "source": [
    "## 1.7 Descriptive Statistical"
   ]
  },
  {
   "cell_type": "code",
   "execution_count": 47,
   "id": "0a6e47c8",
   "metadata": {
    "ExecuteTime": {
     "end_time": "2021-04-07T12:58:19.930504Z",
     "start_time": "2021-04-07T12:58:19.921499Z"
    }
   },
   "outputs": [
    {
     "data": {
      "text/plain": [
       "step                  int64\n",
       "type                 object\n",
       "amount              float64\n",
       "name_orig            object\n",
       "oldbalance_org      float64\n",
       "newbalance_orig     float64\n",
       "name_dest            object\n",
       "oldbalance_dest     float64\n",
       "newbalance_dest     float64\n",
       "is_fraud              int64\n",
       "is_flagged_fraud      int64\n",
       "dtype: object"
      ]
     },
     "execution_count": 47,
     "metadata": {},
     "output_type": "execute_result"
    }
   ],
   "source": [
    "df1.dtypes"
   ]
  },
  {
   "cell_type": "code",
   "execution_count": 48,
   "id": "32b96f5f",
   "metadata": {
    "ExecuteTime": {
     "end_time": "2021-04-07T12:58:21.270824Z",
     "start_time": "2021-04-07T12:58:20.626073Z"
    }
   },
   "outputs": [],
   "source": [
    "num_attributes = df1[['step', 'amount', 'oldbalance_org', 'newbalance_orig','oldbalance_dest','newbalance_dest']]\n",
    "\n",
    "cat_attributes = df1[['type', 'name_orig', 'name_dest', 'is_flagged_fraud' ]]\n",
    "\n",
    "target_atribute = df1['is_fraud']"
   ]
  },
  {
   "cell_type": "markdown",
   "id": "88e9b867",
   "metadata": {},
   "source": [
    "### 1.7.1 Numerical Attributes"
   ]
  },
  {
   "cell_type": "code",
   "execution_count": 49,
   "id": "d92a939c",
   "metadata": {
    "ExecuteTime": {
     "end_time": "2021-04-07T12:58:30.720037Z",
     "start_time": "2021-04-07T12:58:21.641070Z"
    }
   },
   "outputs": [
    {
     "data": {
      "text/html": [
       "<div>\n",
       "<style scoped>\n",
       "    .dataframe tbody tr th:only-of-type {\n",
       "        vertical-align: middle;\n",
       "    }\n",
       "\n",
       "    .dataframe tbody tr th {\n",
       "        vertical-align: top;\n",
       "    }\n",
       "\n",
       "    .dataframe thead th {\n",
       "        text-align: right;\n",
       "    }\n",
       "</style>\n",
       "<table border=\"1\" class=\"dataframe\">\n",
       "  <thead>\n",
       "    <tr style=\"text-align: right;\">\n",
       "      <th></th>\n",
       "      <th>attributes</th>\n",
       "      <th>min</th>\n",
       "      <th>max</th>\n",
       "      <th>range</th>\n",
       "      <th>mean</th>\n",
       "      <th>median</th>\n",
       "      <th>std</th>\n",
       "      <th>skew</th>\n",
       "      <th>kurtosis</th>\n",
       "    </tr>\n",
       "  </thead>\n",
       "  <tbody>\n",
       "    <tr>\n",
       "      <th>0</th>\n",
       "      <td>step</td>\n",
       "      <td>1.0</td>\n",
       "      <td>7.430000e+02</td>\n",
       "      <td>7.420000e+02</td>\n",
       "      <td>2.433626e+02</td>\n",
       "      <td>239.000</td>\n",
       "      <td>1.423198e+02</td>\n",
       "      <td>0.375190</td>\n",
       "      <td>0.328697</td>\n",
       "    </tr>\n",
       "    <tr>\n",
       "      <th>1</th>\n",
       "      <td>amount</td>\n",
       "      <td>0.0</td>\n",
       "      <td>9.244552e+07</td>\n",
       "      <td>9.244552e+07</td>\n",
       "      <td>1.799096e+05</td>\n",
       "      <td>74841.030</td>\n",
       "      <td>6.024578e+05</td>\n",
       "      <td>30.513042</td>\n",
       "      <td>1736.803090</td>\n",
       "    </tr>\n",
       "    <tr>\n",
       "      <th>2</th>\n",
       "      <td>oldbalance_org</td>\n",
       "      <td>0.0</td>\n",
       "      <td>5.958504e+07</td>\n",
       "      <td>5.958504e+07</td>\n",
       "      <td>8.337449e+05</td>\n",
       "      <td>14212.000</td>\n",
       "      <td>2.887601e+06</td>\n",
       "      <td>5.248940</td>\n",
       "      <td>32.977270</td>\n",
       "    </tr>\n",
       "    <tr>\n",
       "      <th>3</th>\n",
       "      <td>newbalance_orig</td>\n",
       "      <td>0.0</td>\n",
       "      <td>4.958504e+07</td>\n",
       "      <td>4.958504e+07</td>\n",
       "      <td>8.549461e+05</td>\n",
       "      <td>0.000</td>\n",
       "      <td>2.923386e+06</td>\n",
       "      <td>5.176258</td>\n",
       "      <td>32.066187</td>\n",
       "    </tr>\n",
       "    <tr>\n",
       "      <th>4</th>\n",
       "      <td>oldbalance_dest</td>\n",
       "      <td>0.0</td>\n",
       "      <td>3.560159e+08</td>\n",
       "      <td>3.560159e+08</td>\n",
       "      <td>1.100383e+06</td>\n",
       "      <td>132801.065</td>\n",
       "      <td>3.403514e+06</td>\n",
       "      <td>20.112960</td>\n",
       "      <td>964.983526</td>\n",
       "    </tr>\n",
       "    <tr>\n",
       "      <th>5</th>\n",
       "      <td>newbalance_dest</td>\n",
       "      <td>0.0</td>\n",
       "      <td>3.561793e+08</td>\n",
       "      <td>3.561793e+08</td>\n",
       "      <td>1.224793e+06</td>\n",
       "      <td>215013.220</td>\n",
       "      <td>3.676909e+06</td>\n",
       "      <td>19.447839</td>\n",
       "      <td>868.921775</td>\n",
       "    </tr>\n",
       "  </tbody>\n",
       "</table>\n",
       "</div>"
      ],
      "text/plain": [
       "        attributes  min           max         range          mean      median  \\\n",
       "0             step  1.0  7.430000e+02  7.420000e+02  2.433626e+02     239.000   \n",
       "1           amount  0.0  9.244552e+07  9.244552e+07  1.799096e+05   74841.030   \n",
       "2   oldbalance_org  0.0  5.958504e+07  5.958504e+07  8.337449e+05   14212.000   \n",
       "3  newbalance_orig  0.0  4.958504e+07  4.958504e+07  8.549461e+05       0.000   \n",
       "4  oldbalance_dest  0.0  3.560159e+08  3.560159e+08  1.100383e+06  132801.065   \n",
       "5  newbalance_dest  0.0  3.561793e+08  3.561793e+08  1.224793e+06  215013.220   \n",
       "\n",
       "            std       skew     kurtosis  \n",
       "0  1.423198e+02   0.375190     0.328697  \n",
       "1  6.024578e+05  30.513042  1736.803090  \n",
       "2  2.887601e+06   5.248940    32.977270  \n",
       "3  2.923386e+06   5.176258    32.066187  \n",
       "4  3.403514e+06  20.112960   964.983526  \n",
       "5  3.676909e+06  19.447839   868.921775  "
      ]
     },
     "execution_count": 49,
     "metadata": {},
     "output_type": "execute_result"
    }
   ],
   "source": [
    "# Central Tendency - Mean, median\n",
    "\n",
    "ct1 = pd.DataFrame(num_attributes.apply(np.mean)).T\n",
    "ct2 = pd.DataFrame(num_attributes.apply(np.median)).T\n",
    "\n",
    "# Dispersion - std, min, max, range, skew, kurtosis\n",
    "d1 = pd.DataFrame(num_attributes.apply(np.std)).T\n",
    "d2 = pd.DataFrame(num_attributes.apply(min)).T\n",
    "d3 = pd.DataFrame(num_attributes.apply(max)).T\n",
    "d4 = pd.DataFrame(num_attributes.apply( lambda x: x.max()- x.min() ) ).T\n",
    "d5 = pd.DataFrame(num_attributes.apply( lambda x: x.skew() ) ).T\n",
    "d6 = pd.DataFrame(num_attributes.apply( lambda x: x.kurtosis() ) ).T\n",
    "\n",
    "#concatenate\n",
    "\n",
    "m1 = pd.concat ([d2, d3, d4, ct1, ct2, d1, d5, d6]).T.reset_index()\n",
    "m1.columns = (['attributes', 'min', 'max', 'range', 'mean', 'median', 'std', 'skew', 'kurtosis'])\n",
    "m1"
   ]
  },
  {
   "cell_type": "markdown",
   "id": "3feff1c9",
   "metadata": {},
   "source": [
    "### 1.7.2 Categorical Attributes"
   ]
  },
  {
   "cell_type": "code",
   "execution_count": 50,
   "id": "fd2441c1",
   "metadata": {
    "ExecuteTime": {
     "end_time": "2021-04-07T12:58:38.516486Z",
     "start_time": "2021-04-07T12:58:31.693494Z"
    }
   },
   "outputs": [
    {
     "data": {
      "text/plain": [
       "type                      5\n",
       "name_orig           5084156\n",
       "name_dest           2266013\n",
       "is_flagged_fraud          2\n",
       "dtype: int64"
      ]
     },
     "execution_count": 50,
     "metadata": {},
     "output_type": "execute_result"
    }
   ],
   "source": [
    "cat_attributes.apply(lambda x: x.unique().shape[0])"
   ]
  },
  {
   "cell_type": "code",
   "execution_count": 51,
   "id": "ba8de299",
   "metadata": {
    "ExecuteTime": {
     "end_time": "2021-04-07T12:58:48.736533Z",
     "start_time": "2021-04-07T12:58:43.265689Z"
    }
   },
   "outputs": [
    {
     "data": {
      "text/plain": [
       "<AxesSubplot:xlabel='type', ylabel='count'>"
      ]
     },
     "execution_count": 51,
     "metadata": {},
     "output_type": "execute_result"
    },
    {
     "data": {
      "image/png": "[encoded data removed]",
      "text/plain": [
       "<Figure size 1152x576 with 2 Axes>"
      ]
     },
     "metadata": {
      "needs_background": "light"
     },
     "output_type": "display_data"
    }
   ],
   "source": [
    "fig, axs = plt.subplots( nrows = 2,  figsize = (16,8))\n",
    "\n",
    "sns.countplot(x ='type', data= df1[df1['is_fraud']==0], ax=axs[0])\n",
    "\n",
    "sns.countplot(x ='type', data= df1[df1['is_fraud']==1], ax=axs[1])"
   ]
  },
  {
   "cell_type": "code",
   "execution_count": 57,
   "id": "b73cec3c",
   "metadata": {
    "ExecuteTime": {
     "end_time": "2021-04-07T13:17:50.832239Z",
     "start_time": "2021-04-07T13:17:50.786208Z"
    }
   },
   "outputs": [
    {
     "data": {
      "text/plain": [
       "C659082738     1\n",
       "C1797578392    1\n",
       "C1032891419    1\n",
       "C46140680      1\n",
       "C99129129      1\n",
       "              ..\n",
       "C1468373827    1\n",
       "C362205540     1\n",
       "C1790329459    1\n",
       "C22591109      1\n",
       "C75004200      1\n",
       "Name: name_orig, Length: 6570, dtype: int64"
      ]
     },
     "execution_count": 57,
     "metadata": {},
     "output_type": "execute_result"
    }
   ],
   "source": [
    "df1[df1['is_fraud']==1]['name_orig'].value_counts()"
   ]
  },
  {
   "cell_type": "code",
   "execution_count": 55,
   "id": "2cdf15b7",
   "metadata": {
    "ExecuteTime": {
     "end_time": "2021-04-07T13:04:21.341099Z",
     "start_time": "2021-04-07T13:03:20.921623Z"
    }
   },
   "outputs": [
    {
     "data": {
      "text/plain": [
       "<AxesSubplot:xlabel='name_orig', ylabel='Density'>"
      ]
     },
     "execution_count": 55,
     "metadata": {},
     "output_type": "execute_result"
    },
    {
     "data": {
      "image/png": "[encoded data removed]",
      "text/plain": [
       "<Figure size 432x288 with 1 Axes>"
      ]
     },
     "metadata": {
      "needs_background": "light"
     },
     "output_type": "display_data"
    }
   ],
   "source": [
    "sns.distplot(cat_attributes['name_orig'].value_counts())"
   ]
  },
  {
   "cell_type": "code",
   "execution_count": 58,
   "id": "2cf2c65a",
   "metadata": {
    "ExecuteTime": {
     "end_time": "2021-04-07T13:18:04.034874Z",
     "start_time": "2021-04-07T13:18:03.911626Z"
    }
   },
   "outputs": [
    {
     "data": {
      "text/plain": [
       "C643624257    2\n",
       "C104038589    2\n",
       "C410033330    2\n",
       "C385133759    2\n",
       "C967226405    2\n",
       "             ..\n",
       "C112266797    1\n",
       "C371379583    1\n",
       "C832749526    1\n",
       "C16371707     1\n",
       "C107263754    1\n",
       "Name: name_dest, Length: 6541, dtype: int64"
      ]
     },
     "execution_count": 58,
     "metadata": {},
     "output_type": "execute_result"
    }
   ],
   "source": [
    "df1[df1['is_fraud']==1]['name_dest'].value_counts()"
   ]
  },
  {
   "cell_type": "code",
   "execution_count": 63,
   "id": "5c52fcf7",
   "metadata": {
    "ExecuteTime": {
     "end_time": "2021-04-07T13:44:08.100617Z",
     "start_time": "2021-04-07T13:44:05.744406Z"
    }
   },
   "outputs": [
    {
     "data": {
      "text/plain": [
       "<AxesSubplot:xlabel='name_dest'>"
      ]
     },
     "execution_count": 63,
     "metadata": {},
     "output_type": "execute_result"
    },
    {
     "data": {
      "image/png": "[encoded data removed]",
      "text/plain": [
       "<Figure size 432x288 with 1 Axes>"
      ]
     },
     "metadata": {
      "needs_background": "light"
     },
     "output_type": "display_data"
    }
   ],
   "source": [
    "sns.distplot(df1[df1['is_fraud']==1]['name_dest'].value_counts(), kde = False)"
   ]
  },
  {
   "cell_type": "code",
   "execution_count": 62,
   "id": "3b6d118f",
   "metadata": {
    "ExecuteTime": {
     "end_time": "2021-04-07T13:22:58.854249Z",
     "start_time": "2021-04-07T13:22:58.639939Z"
    }
   },
   "outputs": [
    {
     "data": {
      "text/plain": [
       "0    0.998709\n",
       "1    0.001291\n",
       "Name: is_fraud, dtype: float64"
      ]
     },
     "execution_count": 62,
     "metadata": {},
     "output_type": "execute_result"
    }
   ],
   "source": [
    "target_atribute.value_counts(normalize=True)"
   ]
  },
  {
   "cell_type": "markdown",
   "id": "cf63e33e",
   "metadata": {},
   "source": [
    "**Data Description Summary:**\n",
    "\n",
    "1. **XXX** \n",
    "    - Range is from 20 to 85. \n",
    "    - Mean is 38.82 and median is 36. \n",
    "    - Higher density is from 20 to 29 with 42%, followed by 40 to 49 with 19,9%.\n",
    "****    \n"
   ]
  },
  {
   "cell_type": "markdown",
   "id": "d5e91065",
   "metadata": {},
   "source": [
    "## 1.8 Save dataset"
   ]
  },
  {
   "cell_type": "code",
   "execution_count": null,
   "id": "94ef17a6",
   "metadata": {},
   "outputs": [],
   "source": [
    "df1.to_csv('df1.csv', index=False)"
   ]
  },
  {
   "cell_type": "markdown",
   "id": "4bd330a4",
   "metadata": {},
   "source": [
    "# 2.0 Feature Engineering And Variables Filtering"
   ]
  },
  {
   "cell_type": "code",
   "execution_count": 74,
   "id": "7d4fb4f4",
   "metadata": {
    "ExecuteTime": {
     "end_time": "2021-04-09T15:37:00.590764Z",
     "start_time": "2021-04-09T15:37:00.582760Z"
    },
    "hide_input": true
   },
   "outputs": [
    {
     "data": {
      "image/png": "[encoded data removed]",
      "text/plain": [
       "<IPython.core.display.Image object>"
      ]
     },
     "execution_count": 74,
     "metadata": {},
     "output_type": "execute_result"
    }
   ],
   "source": [
    "Image ('C:/Users/Guilherme/Repos/pa002_block_fraud_company/images/is_Fraud.png')"
   ]
  },
  {
   "cell_type": "markdown",
   "id": "fa0959d5",
   "metadata": {
    "ExecuteTime": {
     "end_time": "2021-04-09T15:21:33.255078Z",
     "start_time": "2021-04-09T15:21:32.799743Z"
    }
   },
   "source": [
    "## 2.1 Hypotheses creation"
   ]
  },
  {
   "cell_type": "markdown",
   "id": "b7ea4f98",
   "metadata": {},
   "source": [
    "### 2.1.1 Amount Hypotheses"
   ]
  },
  {
   "cell_type": "markdown",
   "id": "9131352b",
   "metadata": {},
   "source": [
    " **1.** Fraud should occur in higher value amounts (higher than 100k)\n",
    " \n",
    " **2.** Fraud should occur in higher percent amount per origin balance (higher than 75%)\n",
    " \n",
    "****"
   ]
  },
  {
   "cell_type": "markdown",
   "id": "080a637b",
   "metadata": {},
   "source": [
    "### 2.1.2 Transaction Type Hypotheses"
   ]
  },
  {
   "cell_type": "markdown",
   "id": "5f961a2c",
   "metadata": {},
   "source": [
    " **1.** Fraud should occur in payment type of transaction\n",
    " \n",
    " **2.** Fraud should not occur in debit type of transaction\n",
    " \n",
    "****"
   ]
  },
  {
   "cell_type": "markdown",
   "id": "cf57d99c",
   "metadata": {},
   "source": [
    "### 2.1.3 Origin Balance Hypotheses"
   ]
  },
  {
   "cell_type": "markdown",
   "id": "bf77156c",
   "metadata": {},
   "source": [
    " **1.** Fraud should occur when the difference between old balance and new balance is lower than amount\n",
    " \n",
    " **2.** Fraud should not occur when the difference between old balance and new balance is equal to amount\n",
    " \n",
    " **3.** Fraud should not occur when new balance is equal to 0\n",
    " \n",
    "****"
   ]
  },
  {
   "cell_type": "markdown",
   "id": "8aa2f130",
   "metadata": {},
   "source": [
    "### 2.1.4 Destination Balance Hypotheses"
   ]
  },
  {
   "cell_type": "markdown",
   "id": "76d3e469",
   "metadata": {},
   "source": [
    " **1.** Fraud should occur when the difference between new balance and old balance is lower than amount\n",
    " \n",
    " **2.** Fraud should not occur when the difference between new balance and old balance is equal to amount\n",
    " \n",
    " **3.** Fraud should not occur when destination is merchant\n",
    " \n",
    " **4.** Fraud should occur with destination that receive with more frequency\n",
    " \n",
    "****"
   ]
  },
  {
   "cell_type": "markdown",
   "id": "dbdcccfc",
   "metadata": {},
   "source": [
    "### 2.1.5 Step Hypotheses"
   ]
  },
  {
   "cell_type": "markdown",
   "id": "1a452df2",
   "metadata": {},
   "source": [
    " **1.** Fraud should occur in the beginning of the month (day 1 to day 8)\n",
    " \n",
    " **2.** Fraud should occurs in weekends\n",
    " \n",
    " **3.** Fraud should occurs during night (6pm to 10pm)\n",
    " \n",
    "****"
   ]
  },
  {
   "cell_type": "markdown",
   "id": "85bcc7fc",
   "metadata": {
    "ExecuteTime": {
     "end_time": "2021-04-09T21:56:58.443727Z",
     "start_time": "2021-04-09T21:56:58.421713Z"
    }
   },
   "source": [
    "## 2.2 Creating New Features"
   ]
  },
  {
   "cell_type": "code",
   "execution_count": 81,
   "id": "2e85ca17",
   "metadata": {
    "ExecuteTime": {
     "end_time": "2021-04-09T21:57:30.288745Z",
     "start_time": "2021-04-09T21:57:29.427230Z"
    }
   },
   "outputs": [],
   "source": [
    "df2 = pd.read_csv('df1.csv')"
   ]
  },
  {
   "cell_type": "code",
   "execution_count": 88,
   "id": "e4822b30",
   "metadata": {
    "ExecuteTime": {
     "end_time": "2021-04-09T22:30:33.063990Z",
     "start_time": "2021-04-09T22:21:41.286063Z"
    }
   },
   "outputs": [],
   "source": [
    "#step features\n",
    "\n",
    "#hour\n",
    "df2['hour'] = df2['step'].apply( lambda x: x % 24 )\n",
    "\n",
    "\n",
    "#day\n",
    "df2['day'] = df2['step'].apply( lambda x: np.ceil(x / 24) )\n",
    "\n",
    "\n",
    "#difference between old and new balance origin\n",
    "df2['diff_orig'] = df2['oldbalance_org'] - df2['newbalance_orig']\n",
    "\n",
    "#difference between new and old balance destination\n",
    "df2['diff_dest'] = df2['newbalance_dest'] - df2['oldbalance_dest']\n",
    "\n",
    "#merchant destination flag\n",
    "df2['merchant_dest'] = df2.apply(lambda x: 1 if 'M' in x['name_dest'] else 0, axis=1)"
   ]
  },
  {
   "cell_type": "markdown",
   "id": "48554262",
   "metadata": {
    "ExecuteTime": {
     "end_time": "2021-04-09T21:56:58.443727Z",
     "start_time": "2021-04-09T21:56:58.421713Z"
    }
   },
   "source": [
    "## 2.3 Variable Filtering"
   ]
  },
  {
   "cell_type": "code",
   "execution_count": 100,
   "id": "3d1d933d",
   "metadata": {
    "ExecuteTime": {
     "end_time": "2021-04-09T23:41:17.862100Z",
     "start_time": "2021-04-09T23:41:02.973209Z"
    }
   },
   "outputs": [
    {
     "data": {
      "text/plain": [
       "<AxesSubplot:xlabel='newbalance_dest'>"
      ]
     },
     "execution_count": 100,
     "metadata": {},
     "output_type": "execute_result"
    },
    {
     "data": {
      "image/png": "[encoded data removed]",
      "text/plain": [
       "<Figure size 1080x1296 with 5 Axes>"
      ]
     },
     "metadata": {
      "needs_background": "light"
     },
     "output_type": "display_data"
    }
   ],
   "source": [
    "fig, axs = plt.subplots(nrows = 5, figsize = (15,18))\n",
    "sns.boxplot(df2['amount'], ax=axs[0])\n",
    "sns.boxplot(df2['oldbalance_org'], ax=axs[1])\n",
    "sns.boxplot(df2['newbalance_orig'], ax=axs[2])\n",
    "sns.boxplot(df2['oldbalance_dest'], ax=axs[3])\n",
    "sns.boxplot(df2['newbalance_dest'], ax=axs[4])"
   ]
  },
  {
   "cell_type": "code",
   "execution_count": 101,
   "id": "8dbed8f3",
   "metadata": {
    "ExecuteTime": {
     "end_time": "2021-04-09T23:41:30.147565Z",
     "start_time": "2021-04-09T23:41:23.022192Z"
    }
   },
   "outputs": [],
   "source": [
    "df2 = df2[df2['amount'] < 4e7]\n",
    "df2 = df2[df2['oldbalance_org'] < 4e7]\n",
    "df2 = df2[df2['newbalance_orig'] < 4e7]\n",
    "df2 = df2[df2['oldbalance_dest'] < 2e8]\n",
    "df2 = df2[df2['newbalance_dest'] < 2e8]"
   ]
  },
  {
   "cell_type": "code",
   "execution_count": 102,
   "id": "779d1302",
   "metadata": {
    "ExecuteTime": {
     "end_time": "2021-04-09T23:41:55.711646Z",
     "start_time": "2021-04-09T23:41:41.166429Z"
    }
   },
   "outputs": [
    {
     "data": {
      "text/plain": [
       "<AxesSubplot:xlabel='newbalance_dest'>"
      ]
     },
     "execution_count": 102,
     "metadata": {},
     "output_type": "execute_result"
    },
    {
     "data": {
      "image/png": "[encoded data removed]",
      "text/plain": [
       "<Figure size 1080x1296 with 5 Axes>"
      ]
     },
     "metadata": {
      "needs_background": "light"
     },
     "output_type": "display_data"
    }
   ],
   "source": [
    "fig, axs = plt.subplots(nrows = 5, figsize = (15,18))\n",
    "sns.boxplot(df2['amount'], ax=axs[0])\n",
    "sns.boxplot(df2['oldbalance_org'], ax=axs[1])\n",
    "sns.boxplot(df2['newbalance_orig'], ax=axs[2])\n",
    "sns.boxplot(df2['oldbalance_dest'], ax=axs[3])\n",
    "sns.boxplot(df2['newbalance_dest'], ax=axs[4])"
   ]
  },
  {
   "cell_type": "markdown",
   "id": "dd58404e",
   "metadata": {
    "ExecuteTime": {
     "end_time": "2021-04-09T21:56:58.443727Z",
     "start_time": "2021-04-09T21:56:58.421713Z"
    }
   },
   "source": [
    "## 2.4 Save dataset"
   ]
  },
  {
   "cell_type": "code",
   "execution_count": 103,
   "id": "bcffeabd",
   "metadata": {
    "ExecuteTime": {
     "end_time": "2021-04-09T23:47:11.000315Z",
     "start_time": "2021-04-09T23:45:05.808410Z"
    }
   },
   "outputs": [],
   "source": [
    "df2.to_csv('df2.csv', index=False)"
   ]
  },
  {
   "cell_type": "markdown",
   "id": "489d9384",
   "metadata": {},
   "source": [
    "# 3.0 Exploratory Data Analysis (EDA)"
   ]
  },
  {
   "cell_type": "code",
   "execution_count": 104,
   "id": "ea649983",
   "metadata": {
    "ExecuteTime": {
     "end_time": "2021-04-09T23:59:08.592281Z",
     "start_time": "2021-04-09T23:47:22.349869Z"
    }
   },
   "outputs": [],
   "source": [
    "df3 = pd.read_csv('df2.csv')"
   ]
  },
  {
   "cell_type": "markdown",
   "id": "593df13c",
   "metadata": {},
   "source": [
    "## 3.1 Univariate Analysis"
   ]
  },
  {
   "cell_type": "code",
   "execution_count": null,
   "id": "422fa62b",
   "metadata": {
    "ExecuteTime": {
     "end_time": "2021-04-09T23:59:27.201279Z",
     "start_time": "2021-04-09T23:47:46.324Z"
    }
   },
   "outputs": [],
   "source": [
    "df3.columns"
   ]
  },
  {
   "cell_type": "markdown",
   "id": "626af2b9",
   "metadata": {},
   "source": [
    "### 3.1.1 Numerical variables"
   ]
  },
  {
   "cell_type": "markdown",
   "id": "48ca0369",
   "metadata": {},
   "source": [
    "#### 3.1.1.1 Step analysis"
   ]
  },
  {
   "cell_type": "markdown",
   "id": "4fbf197d",
   "metadata": {},
   "source": [
    "#### 3.1.1.2 Day analysis"
   ]
  },
  {
   "cell_type": "markdown",
   "id": "ecfab827",
   "metadata": {},
   "source": [
    "#### 3.1.1.3 Hour analysis"
   ]
  },
  {
   "cell_type": "markdown",
   "id": "5c75f2df",
   "metadata": {},
   "source": [
    "#### 3.1.1.4 Amount analysis"
   ]
  },
  {
   "cell_type": "markdown",
   "id": "a8ec9d6d",
   "metadata": {},
   "source": [
    "#### 3.1.1.5 Old balance origin analysis"
   ]
  },
  {
   "cell_type": "markdown",
   "id": "ee4b3042",
   "metadata": {},
   "source": [
    "#### 3.1.1.6 New balance origin analysis"
   ]
  },
  {
   "cell_type": "markdown",
   "id": "94ff125c",
   "metadata": {},
   "source": [
    "#### 3.1.1.7 Difference balance origin analysis"
   ]
  },
  {
   "cell_type": "markdown",
   "id": "d77b7081",
   "metadata": {},
   "source": [
    "#### 3.1.1.8 Old balance destination analysis"
   ]
  },
  {
   "cell_type": "markdown",
   "id": "0bcd0ffd",
   "metadata": {},
   "source": [
    "#### 3.1.1.9 New balance destination analysis"
   ]
  },
  {
   "cell_type": "markdown",
   "id": "d057993b",
   "metadata": {},
   "source": [
    "#### 3.1.1.10 Difference balance destination analysis"
   ]
  },
  {
   "cell_type": "markdown",
   "id": "fd7022dc",
   "metadata": {},
   "source": [
    "### 3.1.2 Categorical variables"
   ]
  },
  {
   "cell_type": "markdown",
   "id": "4b77bf63",
   "metadata": {},
   "source": [
    "#### 3.1.2.1 Transaction type analysis"
   ]
  },
  {
   "cell_type": "markdown",
   "id": "8cd51ea4",
   "metadata": {},
   "source": [
    "#### 3.1.2.2 Name origin analysis"
   ]
  },
  {
   "cell_type": "markdown",
   "id": "3eed47d5",
   "metadata": {},
   "source": [
    "#### 3.1.2.3 Name destination analysis"
   ]
  },
  {
   "cell_type": "markdown",
   "id": "d69bc54b",
   "metadata": {},
   "source": [
    "#### 3.1.2.4 Is flagged fraud analysis"
   ]
  },
  {
   "cell_type": "markdown",
   "id": "71f2dacb",
   "metadata": {},
   "source": [
    "#### 3.1.2.5 Merchant destination analysis"
   ]
  },
  {
   "cell_type": "markdown",
   "id": "17e188c5",
   "metadata": {},
   "source": [
    "### 3.1.3 Target variable"
   ]
  },
  {
   "cell_type": "code",
   "execution_count": null,
   "id": "256c91d2",
   "metadata": {},
   "outputs": [],
   "source": []
  },
  {
   "cell_type": "code",
   "execution_count": null,
   "id": "d3fb7779",
   "metadata": {},
   "outputs": [],
   "source": []
  },
  {
   "cell_type": "code",
   "execution_count": null,
   "id": "9f523109",
   "metadata": {},
   "outputs": [],
   "source": []
  },
  {
   "cell_type": "code",
   "execution_count": null,
   "id": "1fce27d8",
   "metadata": {},
   "outputs": [],
   "source": []
  },
  {
   "cell_type": "code",
   "execution_count": null,
   "id": "3c957c46",
   "metadata": {},
   "outputs": [],
   "source": []
  },
  {
   "cell_type": "code",
   "execution_count": null,
   "id": "30b7eb3b",
   "metadata": {},
   "outputs": [],
   "source": []
  },
  {
   "cell_type": "code",
   "execution_count": null,
   "id": "e11a0374",
   "metadata": {},
   "outputs": [],
   "source": [
    "df2['hour_sen'] = df2['step'].apply( lambda x: np.sin( x%24 * (2. * np.pi/24 ) ) )\n",
    "df2['hour_cos'] = df2['step'].apply( lambda x: np.cos( x%24 * (2. * np.pi/24 ) ) )\n",
    "\n",
    "df2['day_sen'] = df2['step'].apply( lambda x: np.sin( np.ceil(x / 24)  * (2. * np.pi/31 ) ) )\n",
    "df2['day_cos'] = df2['step'].apply( lambda x: np.cos( np.ceil(x / 24)  * (2. * np.pi/31 ) ) )"
   ]
  }
 ],
 "metadata": {
  "kernelspec": {
   "display_name": "Python 3",
   "language": "python",
   "name": "python3"
  },
  "language_info": {
   "codemirror_mode": {
    "name": "ipython",
    "version": 3
   },
   "file_extension": ".py",
   "mimetype": "text/x-python",
   "name": "python",
   "nbconvert_exporter": "python",
   "pygments_lexer": "ipython3",
   "version": "3.8.8"
  },
  "varInspector": {
   "cols": {
    "lenName": 16,
    "lenType": 16,
    "lenVar": 40
   },
   "kernels_config": {
    "python": {
     "delete_cmd_postfix": "",
     "delete_cmd_prefix": "del ",
     "library": "var_list.py",
     "varRefreshCmd": "print(var_dic_list())"
    },
    "r": {
     "delete_cmd_postfix": ") ",
     "delete_cmd_prefix": "rm(",
     "library": "var_list.r",
     "varRefreshCmd": "cat(var_dic_list()) "
    }
   },
   "types_to_exclude": [
    "module",
    "function",
    "builtin_function_or_method",
    "instance",
    "_Feature"
   ],
   "window_display": false
  }
 },
 "nbformat": 4,
 "nbformat_minor": 5
}
